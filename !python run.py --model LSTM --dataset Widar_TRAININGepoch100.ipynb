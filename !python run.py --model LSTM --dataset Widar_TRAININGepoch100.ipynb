{
  "cells": [
    {
      "cell_type": "markdown",
      "metadata": {
        "id": "view-in-github",
        "colab_type": "text"
      },
      "source": [
        "<a href=\"https://colab.research.google.com/github/zuo-liangliang/DeepLearning-check2023-2024/blob/FEDRT-LSTM_TSET-use-zhangmeng-2024.04.24/!python%20run.py%20--model%20LSTM%20--dataset%20Widar_TRAININGepoch100.ipynb\" target=\"_parent\"><img src=\"https://colab.research.google.com/assets/colab-badge.svg\" alt=\"Open In Colab\"/></a>"
      ]
    },
    {
      "cell_type": "code",
      "execution_count": null,
      "metadata": {
        "id": "64s3XtQS7zTm"
      },
      "outputs": [],
      "source": []
    },
    {
      "cell_type": "code",
      "execution_count": null,
      "metadata": {
        "id": "BDUxUGi4DfvB"
      },
      "outputs": [],
      "source": [
        "!unzip \"/content/drive/MyDrive/check_yjf_2024.04.10/WiFi-CSI-Sensing-Benchmark-main.zip\" -d \"/content/drive/MyDrive/check_yjf_2024.04.10/\"\n",
        "# 解压Zip文件到指定路径\n",
        "################################################################################################################################"
      ]
    },
    {
      "cell_type": "code",
      "execution_count": null,
      "metadata": {
        "id": "9nEopEZzFkDf"
      },
      "outputs": [],
      "source": [
        "!unzip \"/content/drive/MyDrive/check_yjf_2024.04.10/Widardata.zip\" -d \"/content/drive/MyDrive/check_yjf_2024.04.10/WiFi-CSI-Sensing-Benchmark-main/\"\n",
        "# 解压Zip文件到指定路径\n",
        "################################################################################################################################"
      ]
    },
    {
      "cell_type": "code",
      "execution_count": null,
      "metadata": {
        "id": "wReGKTW-VvbS"
      },
      "outputs": [],
      "source": [
        "!nvidia-smi"
      ]
    },
    {
      "cell_type": "code",
      "execution_count": null,
      "metadata": {
        "id": "B4ZUYl88Q2Sx"
      },
      "outputs": [],
      "source": [
        "################################################################################################################################\n",
        "##############验证程序############验证程序###########验证程序##############验证程序########验证程序###########验证程序###########\n",
        "################################################################################################################################\n",
        "!pip install einops\n",
        "# !pip install torch==1.12.0 torchvision==0.13.0\n",
        "import torch\n",
        "import torchvision\n",
        "#!pip install torch torchvision torchaudio\n",
        "print(\"PyTorch 版本:\", torch.__version__)\n",
        "print(\"TorchVision 版本:\", torchvision.__version__)\n"
      ]
    },
    {
      "cell_type": "code",
      "execution_count": null,
      "metadata": {
        "colab": {
          "base_uri": "https://localhost:8080/"
        },
        "id": "HLrQhUuSQ5TT",
        "outputId": "28da43b7-fcb2-48f4-9f58-5b69bfe528f7"
      },
      "outputs": [
        {
          "name": "stdout",
          "output_type": "stream",
          "text": [
            "/content/drive/MyDrive/check_yjf_2024.04.10/WiFi-CSI-Sensing-Benchmark-main\n"
          ]
        }
      ],
      "source": [
        "import os\n",
        "path = \"/content/drive/MyDrive/check_yjf_2024.04.10/WiFi-CSI-Sensing-Benchmark-main\"\n",
        "os.chdir(path)\n",
        "print(os.getcwd())\n",
        "# 更改运行目录，定位当前运行地址"
      ]
    },
    {
      "cell_type": "code",
      "execution_count": null,
      "metadata": {
        "colab": {
          "background_save": true,
          "base_uri": "https://localhost:8080/"
        },
        "id": "_7cZikLmQ7BJ",
        "outputId": "29ea0c91-9449-4c90-898e-22061de61f84"
      },
      "outputs": [
        {
          "name": "stdout",
          "output_type": "stream",
          "text": [
            "using dataset: Widar\n",
            "using model: LSTM\n",
            "Epoch:1, Accuracy:0.2807,Loss:2.3529\n",
            "Epoch:2, Accuracy:0.5022,Loss:1.6474\n",
            "Epoch:3, Accuracy:0.6011,Loss:1.3066\n",
            "Epoch:4, Accuracy:0.6645,Loss:1.0808\n",
            "Epoch:5, Accuracy:0.7152,Loss:0.9198\n",
            "Epoch:6, Accuracy:0.7537,Loss:0.7912\n",
            "Epoch:7, Accuracy:0.7909,Loss:0.6772\n",
            "Epoch:8, Accuracy:0.8198,Loss:0.5894\n",
            "Epoch:9, Accuracy:0.8439,Loss:0.5146\n",
            "Epoch:10, Accuracy:0.8648,Loss:0.4494\n",
            "Epoch:11, Accuracy:0.8842,Loss:0.3930\n",
            "Epoch:12, Accuracy:0.9015,Loss:0.3425\n",
            "Epoch:13, Accuracy:0.9136,Loss:0.3025\n",
            "Epoch:14, Accuracy:0.9251,Loss:0.2683\n",
            "Epoch:15, Accuracy:0.9340,Loss:0.2375\n",
            "Epoch:16, Accuracy:0.9415,Loss:0.2115\n",
            "Epoch:17, Accuracy:0.9483,Loss:0.1878\n",
            "Epoch:18, Accuracy:0.9571,Loss:0.1644\n",
            "Epoch:19, Accuracy:0.9605,Loss:0.1538\n",
            "Epoch:20, Accuracy:0.9650,Loss:0.1386\n",
            "Epoch:21, Accuracy:0.9590,Loss:0.1466\n",
            "Epoch:22, Accuracy:0.9689,Loss:0.1192\n",
            "Epoch:23, Accuracy:0.9733,Loss:0.1079\n",
            "Epoch:24, Accuracy:0.9760,Loss:0.1006\n",
            "Epoch:25, Accuracy:0.9780,Loss:0.0910\n",
            "Epoch:26, Accuracy:0.9759,Loss:0.0954\n",
            "Epoch:27, Accuracy:0.9749,Loss:0.0968\n",
            "Epoch:28, Accuracy:0.9745,Loss:0.0941\n",
            "Epoch:29, Accuracy:0.9847,Loss:0.0666\n",
            "Epoch:30, Accuracy:0.9841,Loss:0.0662\n"
          ]
        }
      ],
      "source": [
        "# epoch=100\n",
        "# !python run.py --model CNN+GRU --dataset Widar\n",
        "# !python run.py --model GRU --dataset Widar\n",
        "!python run.py --model LSTM --dataset Widar\n",
        "# !python run.py --model BiLSTM --dataset Widar\n",
        "# !python run.py --model RNN --dataset Widar\n",
        "\n",
        "# 第一次epoch=100 第2次 epoch=200\n",
        "# !python run.py --model CNN+GRU --dataset UT_HAR_data\n",
        "# !python run.py --model LSTM --dataset UT_HAR_data\n",
        "# !python run.py --model GRU --dataset UT_HAR_data\n",
        "# !python run.py --model BiLSTM --dataset UT_HAR_data\n",
        "# !python run.py --model RNN --dataset UT_HAR_data\n",
        "# !python run.py --model ViT --dataset UT_HAR_data\n",
        "\n",
        "# !python run.py --model CNN+GRU --dataset NTU-Fi-HumanID\n",
        "# !python run.py --model BiLSTM --dataset NTU-Fi-HumanID\n",
        "# !python run.py --model LSTM --dataset NTU-Fi-HumanID\n",
        "# !python run.py --model GRU --dataset NTU-Fi-HumanID\n",
        "# !python run.py --model RNN --dataset NTU-Fi-HumanID\n"
      ]
    },
    {
      "cell_type": "code",
      "execution_count": null,
      "metadata": {
        "id": "Ll2PTZzfFJfy"
      },
      "outputs": [],
      "source": [
        "################################################################################################################################\n",
        "# 删除多个文件夹\n",
        "import shutil\n",
        "# 要删除的文件夹路径列表\n",
        "folder_paths = [\n",
        "    #'/content/drive/My Drive/example_folder1',\n",
        "    #'/content/drive/My Drive/example_folder2',\n",
        "    #'/content/drive/My Drive/example_folder3',\n",
        "    # 添加更多的文件夹路径...\n",
        "    # test\n",
        "    # '/content/drive/MyDrive/check_yjf_2024.04.10/WiFi-CSI-Sensing-Benchmark-main/img',\n",
        "    '/content/drive/MyDrive/check_yjf_2024.04.10/WiFi-CSI-Sensing-Benchmark-main/Widardata',\n",
        "]\n",
        "# 遍历文件夹路径列表，逐个删除文件夹\n",
        "for folder_path in folder_paths:\n",
        "    try:\n",
        "        shutil.rmtree(folder_path)\n",
        "        print(f\"文件夹 '{folder_path}' 删除成功！\")\n",
        "    except Exception as e:\n",
        "        print(f\"删除文件夹 '{folder_path}' 时出现错误：{e}\")"
      ]
    }
  ],
  "metadata": {
    "colab": {
      "provenance": [],
      "mount_file_id": "1-9bFg2vomkY20t-jmryKZsj-kV_QEylk",
      "authorship_tag": "ABX9TyO7WTnEZXBCsVkt0hJtvp6W",
      "include_colab_link": true
    },
    "kernelspec": {
      "display_name": "Python 3",
      "name": "python3"
    },
    "language_info": {
      "name": "python"
    }
  },
  "nbformat": 4,
  "nbformat_minor": 0
}