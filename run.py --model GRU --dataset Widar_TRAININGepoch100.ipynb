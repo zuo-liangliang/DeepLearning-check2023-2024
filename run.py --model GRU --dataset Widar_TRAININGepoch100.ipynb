{
  "nbformat": 4,
  "nbformat_minor": 0,
  "metadata": {
    "colab": {
      "provenance": [],
      "mount_file_id": "1-9bFg2vomkY20t-jmryKZsj-kV_QEylk",
      "authorship_tag": "ABX9TyPEcLoMSgLd2dR9WwdDnoEG",
      "include_colab_link": true
    },
    "kernelspec": {
      "name": "python3",
      "display_name": "Python 3"
    },
    "language_info": {
      "name": "python"
    }
  },
  "cells": [
    {
      "cell_type": "markdown",
      "metadata": {
        "id": "view-in-github",
        "colab_type": "text"
      },
      "source": [
        "<a href=\"https://colab.research.google.com/github/zuo-liangliang/DeepLearning-check2023-2024/blob/FEDRT-LSTM_TSET-use-zhangmeng-2024.04.24/run.py%20--model%20GRU%20--dataset%20Widar_TRAININGepoch100.ipynb\" target=\"_parent\"><img src=\"https://colab.research.google.com/assets/colab-badge.svg\" alt=\"Open In Colab\"/></a>"
      ]
    },
    {
      "cell_type": "code",
      "execution_count": null,
      "metadata": {
        "id": "64s3XtQS7zTm"
      },
      "outputs": [],
      "source": []
    },
    {
      "cell_type": "code",
      "source": [
        "!unzip \"/content/drive/MyDrive/check_yjf_2024.04.10/WiFi-CSI-Sensing-Benchmark-main.zip\" -d \"/content/drive/MyDrive/check_yjf_2024.04.10/\"\n",
        "# 解压Zip文件到指定路径\n",
        "################################################################################################################################"
      ],
      "metadata": {
        "id": "BDUxUGi4DfvB"
      },
      "execution_count": null,
      "outputs": []
    },
    {
      "cell_type": "code",
      "source": [
        "!unzip \"/content/drive/MyDrive/check_yjf_2024.04.10/Widardata.zip\" -d \"/content/drive/MyDrive/check_yjf_2024.04.10/WiFi-CSI-Sensing-Benchmark-main/\"\n",
        "# 解压Zip文件到指定路径\n",
        "################################################################################################################################"
      ],
      "metadata": {
        "id": "9nEopEZzFkDf"
      },
      "execution_count": null,
      "outputs": []
    },
    {
      "cell_type": "code",
      "source": [
        "!nvidia-smi"
      ],
      "metadata": {
        "colab": {
          "base_uri": "https://localhost:8080/"
        },
        "id": "wReGKTW-VvbS",
        "outputId": "fcd103ee-62af-4085-d5da-012fd09ad652"
      },
      "execution_count": 7,
      "outputs": [
        {
          "output_type": "stream",
          "name": "stdout",
          "text": [
            "/bin/bash: line 1: nvidia-smi: command not found\n"
          ]
        }
      ]
    },
    {
      "cell_type": "code",
      "source": [
        "################################################################################################################################\n",
        "##############验证程序############验证程序###########验证程序##############验证程序########验证程序###########验证程序###########\n",
        "################################################################################################################################\n",
        "!pip install einops\n",
        "# !pip install torch==1.12.0 torchvision==0.13.0\n",
        "import torch\n",
        "import torchvision\n",
        "#!pip install torch torchvision torchaudio\n",
        "print(\"PyTorch 版本:\", torch.__version__)\n",
        "print(\"TorchVision 版本:\", torchvision.__version__)\n"
      ],
      "metadata": {
        "colab": {
          "base_uri": "https://localhost:8080/"
        },
        "id": "B4ZUYl88Q2Sx",
        "outputId": "8cb01c77-54f6-4752-cc9f-cfcd4c87d45b"
      },
      "execution_count": 8,
      "outputs": [
        {
          "output_type": "stream",
          "name": "stdout",
          "text": [
            "Requirement already satisfied: einops in /usr/local/lib/python3.10/dist-packages (0.7.0)\n",
            "PyTorch 版本: 2.2.1+cu121\n",
            "TorchVision 版本: 0.17.1+cu121\n"
          ]
        }
      ]
    },
    {
      "cell_type": "code",
      "source": [
        "import os\n",
        "path = \"/content/drive/MyDrive/check_yjf_2024.04.10/WiFi-CSI-Sensing-Benchmark-main\"\n",
        "os.chdir(path)\n",
        "print(os.getcwd())\n",
        "# 更改运行目录，定位当前运行地址"
      ],
      "metadata": {
        "colab": {
          "base_uri": "https://localhost:8080/"
        },
        "id": "HLrQhUuSQ5TT",
        "outputId": "1453bcc4-91fb-47e8-bb7d-e0cc7620d394"
      },
      "execution_count": 9,
      "outputs": [
        {
          "output_type": "stream",
          "name": "stdout",
          "text": [
            "/content/drive/MyDrive/check_yjf_2024.04.10/WiFi-CSI-Sensing-Benchmark-main\n"
          ]
        }
      ]
    },
    {
      "cell_type": "code",
      "source": [
        "# epoch=100\n",
        "# !python run.py --model CNN+GRU --dataset Widar\n",
        "!python run.py --model GRU --dataset Widar\n",
        "# !python run.py --model LSTM --dataset Widar\n",
        "# !python run.py --model BiLSTM --dataset Widar\n",
        "# !python run.py --model RNN --dataset Widar\n",
        "\n",
        "# 第一次epoch=100 第2次 epoch=200\n",
        "# !python run.py --model CNN+GRU --dataset UT_HAR_data\n",
        "# !python run.py --model LSTM --dataset UT_HAR_data\n",
        "# !python run.py --model GRU --dataset UT_HAR_data\n",
        "# !python run.py --model BiLSTM --dataset UT_HAR_data\n",
        "# !python run.py --model RNN --dataset UT_HAR_data\n",
        "# !python run.py --model ViT --dataset UT_HAR_data\n",
        "\n",
        "# !python run.py --model CNN+GRU --dataset NTU-Fi-HumanID\n",
        "# !python run.py --model BiLSTM --dataset NTU-Fi-HumanID\n",
        "# !python run.py --model LSTM --dataset NTU-Fi-HumanID\n",
        "# !python run.py --model GRU --dataset NTU-Fi-HumanID\n",
        "# !python run.py --model RNN --dataset NTU-Fi-HumanID\n"
      ],
      "metadata": {
        "colab": {
          "base_uri": "https://localhost:8080/"
        },
        "id": "_7cZikLmQ7BJ",
        "outputId": "795b03e7-99c6-4787-e8eb-ea7657c1ad15"
      },
      "execution_count": 10,
      "outputs": [
        {
          "metadata": {
            "tags": null
          },
          "name": "stdout",
          "output_type": "stream",
          "text": [
            "using dataset: Widar\n",
            "using model: GRU\n",
            "Epoch:1, Accuracy:0.2994,Loss:2.3176\n",
            "Epoch:2, Accuracy:0.5227,Loss:1.5957\n",
            "Epoch:3, Accuracy:0.6163,Loss:1.2553\n",
            "Epoch:4, Accuracy:0.6785,Loss:1.0413\n",
            "Epoch:5, Accuracy:0.7235,Loss:0.8904\n",
            "Epoch:6, Accuracy:0.7657,Loss:0.7647\n",
            "Epoch:7, Accuracy:0.7926,Loss:0.6658\n",
            "Epoch:8, Accuracy:0.8176,Loss:0.5877\n",
            "Epoch:9, Accuracy:0.8434,Loss:0.5121\n",
            "Epoch:10, Accuracy:0.8595,Loss:0.4569\n",
            "Epoch:11, Accuracy:0.8758,Loss:0.4081\n",
            "Epoch:12, Accuracy:0.8914,Loss:0.3630\n",
            "Epoch:13, Accuracy:0.9026,Loss:0.3279\n",
            "Epoch:14, Accuracy:0.9115,Loss:0.2994\n",
            "Epoch:15, Accuracy:0.9242,Loss:0.2628\n",
            "Epoch:16, Accuracy:0.9217,Loss:0.2600\n",
            "Epoch:17, Accuracy:0.9365,Loss:0.2215\n",
            "Epoch:18, Accuracy:0.9424,Loss:0.2002\n",
            "Epoch:19, Accuracy:0.9407,Loss:0.2040\n",
            "Epoch:20, Accuracy:0.9492,Loss:0.1817\n",
            "Epoch:21, Accuracy:0.9556,Loss:0.1607\n",
            "Epoch:22, Accuracy:0.9601,Loss:0.1461\n",
            "Epoch:23, Accuracy:0.9566,Loss:0.1505\n",
            "Epoch:24, Accuracy:0.9589,Loss:0.1447\n",
            "Epoch:25, Accuracy:0.9600,Loss:0.1400\n",
            "Epoch:26, Accuracy:0.9595,Loss:0.1380\n",
            "Epoch:27, Accuracy:0.9698,Loss:0.1139\n",
            "Epoch:28, Accuracy:0.9742,Loss:0.1011\n",
            "Epoch:29, Accuracy:0.9705,Loss:0.1071\n",
            "Epoch:30, Accuracy:0.9648,Loss:0.1222\n",
            "Epoch:31, Accuracy:0.9632,Loss:0.1271\n",
            "Epoch:32, Accuracy:0.9620,Loss:0.1271\n",
            "Epoch:33, Accuracy:0.9713,Loss:0.1033\n",
            "Epoch:34, Accuracy:0.9815,Loss:0.0762\n",
            "Epoch:35, Accuracy:0.9748,Loss:0.0900\n",
            "Epoch:36, Accuracy:0.9741,Loss:0.0919\n",
            "Epoch:37, Accuracy:0.9734,Loss:0.0942\n",
            "Epoch:38, Accuracy:0.9792,Loss:0.0771\n",
            "Epoch:39, Accuracy:0.9727,Loss:0.0966\n",
            "Epoch:40, Accuracy:0.9681,Loss:0.1031\n",
            "Epoch:41, Accuracy:0.9794,Loss:0.0740\n",
            "Epoch:42, Accuracy:0.9805,Loss:0.0719\n",
            "Epoch:43, Accuracy:0.9777,Loss:0.0781\n",
            "Epoch:44, Accuracy:0.9597,Loss:0.1328\n",
            "Epoch:45, Accuracy:0.9716,Loss:0.0957\n",
            "Epoch:46, Accuracy:0.9830,Loss:0.0625\n",
            "Epoch:47, Accuracy:0.9773,Loss:0.0805\n",
            "Epoch:48, Accuracy:0.9777,Loss:0.0767\n",
            "Epoch:49, Accuracy:0.9822,Loss:0.0637\n",
            "Epoch:50, Accuracy:0.9867,Loss:0.0517\n",
            "Traceback (most recent call last):\n",
            "  File \"/content/drive/MyDrive/check_yjf_2024.04.10/WiFi-CSI-Sensing-Benchmark-main/run.py\", line 147, in <module>\n",
            "  File \"/content/drive/MyDrive/check_yjf_2024.04.10/WiFi-CSI-Sensing-Benchmark-main/run.py\", line 129, in main\n",
            "  File \"/content/drive/MyDrive/check_yjf_2024.04.10/WiFi-CSI-Sensing-Benchmark-main/run.py\", line 25, in train\n",
            "  File \"/usr/local/lib/python3.10/dist-packages/torch/utils/data/dataloader.py\", line 631, in __next__\n",
            "    data = self._next_data()\n",
            "  File \"/usr/local/lib/python3.10/dist-packages/torch/utils/data/dataloader.py\", line 675, in _next_data\n",
            "    data = self._dataset_fetcher.fetch(index)  # may raise StopIteration\n",
            "  File \"/usr/local/lib/python3.10/dist-packages/torch/utils/data/_utils/fetch.py\", line 51, in fetch\n",
            "    data = [self.dataset[idx] for idx in possibly_batched_index]\n",
            "  File \"/usr/local/lib/python3.10/dist-packages/torch/utils/data/_utils/fetch.py\", line 51, in <listcomp>\n",
            "    data = [self.dataset[idx] for idx in possibly_batched_index]\n",
            "  File \"/content/drive/MyDrive/check_yjf_2024.04.10/WiFi-CSI-Sensing-Benchmark-main/dataset.py\", line 88, in __getitem__\n",
            "  File \"/usr/local/lib/python3.10/dist-packages/numpy/lib/npyio.py\", line 1980, in genfromtxt\n",
            "    fid = np.lib._datasource.open(fname, 'rt', encoding=encoding)\n",
            "  File \"/usr/local/lib/python3.10/dist-packages/numpy/lib/_datasource.py\", line 192, in open\n",
            "    ds = DataSource(destpath)\n",
            "  File \"/usr/local/lib/python3.10/dist-packages/numpy/lib/_datasource.py\", line 249, in __init__\n",
            "    self._destpath = os.path.abspath(destpath)\n",
            "  File \"/usr/lib/python3.10/posixpath.py\", line 384, in abspath\n",
            "    cwd = os.getcwd()\n",
            "ConnectionAbortedError: [Errno 103] Software caused connection abort\n"
          ]
        }
      ]
    },
    {
      "cell_type": "code",
      "source": [
        "################################################################################################################################\n",
        "# 删除多个文件夹\n",
        "import shutil\n",
        "# 要删除的文件夹路径列表\n",
        "folder_paths = [\n",
        "    #'/content/drive/My Drive/example_folder1',\n",
        "    #'/content/drive/My Drive/example_folder2',\n",
        "    #'/content/drive/My Drive/example_folder3',\n",
        "    # 添加更多的文件夹路径...\n",
        "    # test\n",
        "    # '/content/drive/MyDrive/check_yjf_2024.04.10/WiFi-CSI-Sensing-Benchmark-main/img',\n",
        "    '/content/drive/MyDrive/check_yjf_2024.04.10/WiFi-CSI-Sensing-Benchmark-main/Widardata',\n",
        "]\n",
        "# 遍历文件夹路径列表，逐个删除文件夹\n",
        "for folder_path in folder_paths:\n",
        "    try:\n",
        "        shutil.rmtree(folder_path)\n",
        "        print(f\"文件夹 '{folder_path}' 删除成功！\")\n",
        "    except Exception as e:\n",
        "        print(f\"删除文件夹 '{folder_path}' 时出现错误：{e}\")"
      ],
      "metadata": {
        "id": "Ll2PTZzfFJfy"
      },
      "execution_count": null,
      "outputs": []
    }
  ]
}