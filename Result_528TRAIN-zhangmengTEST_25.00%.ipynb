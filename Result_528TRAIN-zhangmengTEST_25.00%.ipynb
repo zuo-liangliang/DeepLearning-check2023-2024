{
  "nbformat": 4,
  "nbformat_minor": 0,
  "metadata": {
    "colab": {
      "provenance": [],
      "machine_shape": "hm",
      "mount_file_id": "1Cz2jHsRGlIY8OLCF5RPplMv55tD0VoXd",
      "authorship_tag": "ABX9TyPRzfmIz5+NxB95N6pGSAuW",
      "include_colab_link": true
    },
    "kernelspec": {
      "name": "python3",
      "display_name": "Python 3"
    },
    "language_info": {
      "name": "python"
    }
  },
  "cells": [
    {
      "cell_type": "markdown",
      "metadata": {
        "id": "view-in-github",
        "colab_type": "text"
      },
      "source": [
        "<a href=\"https://colab.research.google.com/github/zuo-liangliang/DeepLearning-check2023-2024/blob/FEDRT-LSTM_TSET-use-zhangmeng-2024.04.24/Result_528TRAIN-zhangmengTEST_25.00%25.ipynb\" target=\"_parent\"><img src=\"https://colab.research.google.com/assets/colab-badge.svg\" alt=\"Open In Colab\"/></a>"
      ]
    },
    {
      "cell_type": "code",
      "source": [],
      "metadata": {
        "id": "oS3ZliHYxQ_h"
      },
      "execution_count": null,
      "outputs": []
    },
    {
      "cell_type": "code",
      "source": [
        "!unzip \"/content/drive/MyDrive/NTU-Fi_HAR.zip\" -d \"/content/drive/MyDrive/check_yjf_2024.04.10/WiFi-CSI-Sensing-Benchmark-main/NTU-Fi_HAR/\"\n",
        "# 解压Zip文件到指定路径\n",
        "################################################################################################################################"
      ],
      "metadata": {
        "id": "WvsavS42Y8QW"
      },
      "execution_count": null,
      "outputs": []
    },
    {
      "cell_type": "code",
      "source": [
        "!nvidia-smi"
      ],
      "metadata": {
        "colab": {
          "base_uri": "https://localhost:8080/"
        },
        "id": "amX2d-r66deM",
        "outputId": "0dfc75eb-a62d-43fa-d2fd-00b2111f0a3f"
      },
      "execution_count": null,
      "outputs": [
        {
          "output_type": "stream",
          "name": "stdout",
          "text": [
            "/bin/bash: line 1: nvidia-smi: command not found\n"
          ]
        }
      ]
    },
    {
      "cell_type": "code",
      "source": [
        "################################################################################################################################\n",
        "##############验证程序############验证程序###########验证程序##############验证程序########验证程序###########验证程序###########\n",
        "################################################################################################################################\n",
        "!pip install einops\n",
        "# !pip install torch==1.12.0 torchvision==0.13.0\n",
        "import torch\n",
        "import torchvision\n",
        "#!pip install torch torchvision torchaudio\n",
        "print(\"PyTorch 版本:\", torch.__version__)\n",
        "print(\"TorchVision 版本:\", torchvision.__version__)\n"
      ],
      "metadata": {
        "colab": {
          "base_uri": "https://localhost:8080/"
        },
        "id": "vV7neAy05cTe",
        "outputId": "552cf6de-6bae-4351-eeb1-a28bc7e135ca"
      },
      "execution_count": 34,
      "outputs": [
        {
          "output_type": "stream",
          "name": "stdout",
          "text": [
            "Requirement already satisfied: einops in /usr/local/lib/python3.10/dist-packages (0.7.0)\n",
            "PyTorch 版本: 2.2.1+cu121\n",
            "TorchVision 版本: 0.17.1+cu121\n"
          ]
        }
      ]
    },
    {
      "cell_type": "code",
      "source": [
        "import os\n",
        "path = \"/content/drive/MyDrive/Result_FEDRT-LSTM_TSET-use-zhangmeng\"\n",
        "os.chdir(path)\n",
        "print(os.getcwd())\n",
        "# 更改运行目录，定位当前运行地址"
      ],
      "metadata": {
        "colab": {
          "base_uri": "https://localhost:8080/"
        },
        "id": "DMHKhhQO5jgI",
        "outputId": "a4feb335-ce9b-4c8d-b89e-447715e1e277"
      },
      "execution_count": 35,
      "outputs": [
        {
          "output_type": "stream",
          "name": "stdout",
          "text": [
            "/content/drive/MyDrive/Result_FEDRT-LSTM_TSET-use-zhangmeng\n"
          ]
        }
      ]
    },
    {
      "cell_type": "code",
      "source": [
        "# FEDRT-LSTM\n",
        "from keras.callbacks import Callback\n",
        "import matplotlib.pyplot as plt\n",
        "from sklearn.metrics import ConfusionMatrixDisplay\n",
        "\n",
        "from __future__ import print_function\n",
        "\n",
        "import time\n",
        "import os,sys\n",
        "import numpy as np\n",
        "import pandas as pd\n",
        "import scipy.io as scio\n",
        "import tensorflow as tf\n",
        "tf.compat.v1.keras.backend.set_session\n",
        "import keras\n",
        "from keras.layers import Input, GRU, LSTM, Dense, Flatten, Dropout, Conv2D, Conv3D, MaxPooling2D, MaxPooling3D, TimeDistributed\n",
        "from keras.models import Model, load_model\n",
        "import keras.backend as K\n",
        "from sklearn.metrics import confusion_matrix\n",
        "from sklearn.model_selection import train_test_split\n",
        "\n",
        "from keras.layers import MultiHeadAttention, LayerNormalization\n",
        "num_transformer_layers = 1  # 设置Transformer层数\n",
        "\n",
        "# Parameters\n",
        "use_existing_model = False  # 创建一个模型（False）默认创建一个新模型\n",
        "# use_existing_model = True    # 模型权重修改点 使用已经存在的模型（True）\n",
        "# data_dir = '/content/drive/MyDrive/Colab_Notebooks/528BVP-acnt2/528[-1,1]长度20-分辨率15_acnt2_剔14_改6为4/'   #修改数据集文件夹\n",
        "data_dir_training = '/content/drive/MyDrive/Result_FEDRT-LSTM_TSET-use-zhangmeng/528[-1,1]长度20-分辨率15_acnt2_剔14_改6为4/'\n",
        "data_dir_testing = '/content/drive/MyDrive/Result_FEDRT-LSTM_TSET-use-zhangmeng/DriverBVP[-1,1]bvplength20-分辨率15-手势4/'  # 修改为另外环境下的数据路径\n",
        "\n",
        "#fraction_for_test = 0.1 # 修改测试集占比 原先是0.1-->0.2\n",
        "#ALL_MOTION = [1,2,3,4,5,6]\n",
        "ALL_MOTION = [2,3,4,5]\n",
        "N_MOTION = len(ALL_MOTION)\n",
        "T_MAX = 0\n",
        "n_epochs = 30 #200       #原始是30 #修改点1 取在528上最好的一组超参\n",
        "f_dropout_ratio = 0.5\n",
        "n_gru_hidden_units = 32\n",
        "n_batch_size = 32     #原始是32-->16\n",
        "f_learning_rate = 0.001  #原始是0.001-->0.002\n",
        "\n",
        "def normalize_data(data_1):\n",
        "    data_1_max = np.concatenate((data_1.max(axis=0),data_1.max(axis=1)),axis=0).max(axis=0)\n",
        "    data_1_min = np.concatenate((data_1.min(axis=0),data_1.min(axis=1)),axis=0).min(axis=0)\n",
        "    if (len(np.where((data_1_max - data_1_min) == 0)[0]) > 0):\n",
        "        return data_1\n",
        "    data_1_max_rep = np.tile(data_1_max,(data_1.shape[0],data_1.shape[1],1))\n",
        "    data_1_min_rep = np.tile(data_1_min,(data_1.shape[0],data_1.shape[1],1))\n",
        "    data_1_norm = (data_1 - data_1_min_rep) / (data_1_max_rep - data_1_min_rep)\n",
        "    return  data_1_norm\n",
        "\n",
        "def zero_padding(data, T_MAX):\n",
        "    data_pad = []\n",
        "    for i in range(len(data)):\n",
        "        t = np.array(data[i]).shape[2]\n",
        "        data_pad.append(np.pad(data[i], ((0,0),(0,0),(T_MAX - t,0)), 'constant', constant_values = 0).tolist())\n",
        "    return np.array(data_pad)\n",
        "\n",
        "def onehot_encoding(label, num_class):\n",
        "    label = np.array(label).astype('int32')\n",
        "    label = np.squeeze(label)\n",
        "    # _label = np.eye(num_class)[label-1]     # from label to onehot\n",
        "    _label = np.eye(num_class)[label-2]   #修改点2\n",
        "    return _label\n",
        "\n",
        "def load_data(path_to_data, motion_sel):\n",
        "    global T_MAX\n",
        "    data = []\n",
        "    label = []\n",
        "    for data_root, data_dirs, data_files in os.walk(path_to_data):\n",
        "        for data_file_name in data_files:\n",
        "            file_path = os.path.join(data_root,data_file_name)\n",
        "            try:\n",
        "                data_1 = scio.loadmat(file_path)['velocity_spectrum_ro']\n",
        "                label_1 = int(data_file_name.split('-')[1])\n",
        "                #repetition = int(data_file_name.split('-')[4])\n",
        "                repetition = int(data_file_name.split('-')[2])  #修改点3\n",
        "                # Select Motion\n",
        "                if (label_1 not in motion_sel):\n",
        "                    continue\n",
        "                data_normed_1 = normalize_data(data_1)\n",
        "                if T_MAX < np.array(data_1).shape[2]:\n",
        "                    T_MAX = np.array(data_1).shape[2]\n",
        "            except Exception:\n",
        "                continue\n",
        "            # Save List\n",
        "            data.append(data_normed_1.tolist())\n",
        "            label.append(label_1)\n",
        "                # Zero-padding\n",
        "    data = zero_padding(data, T_MAX)\n",
        "\n",
        "    # Swap axes\n",
        "    data = np.swapaxes(np.swapaxes(data, 1, 3), 2, 3)   # [N,20,20',T_MAX]=>[N,T_MAX,20,20']\n",
        "    data = np.expand_dims(data, axis=-1)    # [N,T_MAX,20,20]=>[N,T_MAX,20,20,1]\n",
        "\n",
        "    # Convert label to ndarray\n",
        "    label = np.array(label)\n",
        "\n",
        "    # data(ndarray): [N,T_MAX,20,20,1], label(ndarray): [N,N_MOTION]\n",
        "    return data, label\n",
        "\n",
        "# 构建符合输入形状为 (None, 20, 15, 15, 1) 和输出形状为 (None, 4) 的  模型：\n",
        "#加Transformer修改点3\n",
        "def transformer_layer(inputs, hidden_units, dropout_rate):\n",
        "    # Self-attention\n",
        "    attention_output = MultiHeadAttention(\n",
        "        num_heads=8, key_dim=hidden_units // 8\n",
        "    )(inputs, inputs)\n",
        "    attention_output = Dropout(dropout_rate)(attention_output)\n",
        "    attention_output = LayerNormalization()(attention_output + inputs)\n",
        "\n",
        "    # Feed-forward network\n",
        "    ffn = Dense(hidden_units, activation=\"relu\")(attention_output)\n",
        "    ffn = Dense(hidden_units)(ffn)\n",
        "    ffn = Dropout(dropout_rate)(ffn)\n",
        "    ffn = LayerNormalization()(ffn)\n",
        "\n",
        "    return ffn\n",
        "\n",
        "#加Transformer修改点4\n",
        "def assemble_model(input_shape, n_class):\n",
        "    model_input = Input(shape=input_shape, dtype='float32', name='name_model_input')    # (@,T_MAX,20,20,1)\n",
        "\n",
        "    # Feature extraction part\n",
        "    x = TimeDistributed(Conv2D(16,kernel_size=(5,5),activation='relu',data_format='channels_last',\\\n",
        "        input_shape=input_shape))(model_input)   # (@,T_MAX,20,20,1)=>(@,T_MAX,16,16,16)\n",
        "    x = TimeDistributed(MaxPooling2D(pool_size=(2,2)))(x)    # (@,T_MAX,16,16,16)=>(@,T_MAX,8,8,16)\n",
        "    x = TimeDistributed(Flatten())(x)   # (@,T_MAX,8,8,16)=>(@,T_MAX,8*8*16)\n",
        "    x = TimeDistributed(Dense(64,activation='relu'))(x) # (@,T_MAX,8*8*16)=>(@,T_MAX,64)\n",
        "    x = TimeDistributed(Dropout(f_dropout_ratio))(x)\n",
        "    x = TimeDistributed(Dense(64,activation='relu'))(x) # (@,T_MAX,64)=>(@,T_MAX,64)\n",
        "\n",
        "    # Add transformer layers\n",
        "    for _ in range(num_transformer_layers):\n",
        "        x = transformer_layer(x, hidden_units=64, dropout_rate=f_dropout_ratio)  # 修改点1\n",
        "    x = LSTM(n_gru_hidden_units,return_sequences=False)(x)  # (@,T_MAX,64)=>(@,128)\n",
        "    x = Dropout(f_dropout_ratio)(x)\n",
        "    model_output = Dense(n_class, activation='softmax', name='name_model_output')(x)  # (@,128)=>(@,n_class)\n",
        "\n",
        "    # Create the model\n",
        "    # Model compiling\n",
        "    model = Model(inputs=model_input, outputs=model_output)\n",
        "    model.compile(optimizer=keras.optimizers.RMSprop(lr=f_learning_rate),\n",
        "                    loss='mean_squared_error',  # 将损失函数改为均方误差\n",
        "                    metrics=['accuracy']\n",
        "                )\n",
        "    return model\n",
        "\n",
        "model_type = 'FEDRT-LSTM'\n",
        "\n",
        "# 创建结果文件夹\n",
        "result_folder = f'Result_528TRAIN-zhangmengTEST'\n",
        "os.makedirs(result_folder, exist_ok=True)\n"
      ],
      "metadata": {
        "id": "RcrUiRWM2gKB"
      },
      "execution_count": 42,
      "outputs": []
    },
    {
      "cell_type": "code",
      "source": [
        "# Let's BEGIN >>>>\n",
        "\n",
        "# 定义版本\n",
        "today_version = '2024.04.24_v0.2'\n",
        "\n",
        "import time\n",
        "start_time = time.time()  # 记录程序开始时间\n",
        "\n",
        "# 获取可见的 GPU 设备列表\n",
        "visible_gpus = tf.config.experimental.list_physical_devices('GPU')\n",
        "if len(visible_gpus) > 0:\n",
        "    # 如果有可见的 GPU 设备，设置 TensorFlow 在 GPU 上运行\n",
        "    tf.config.set_visible_devices(visible_gpus, 'GPU')\n",
        "    gpu_config = tf.config.experimental.set_memory_growth(visible_gpus[0], True)\n",
        "    sess = tf.compat.v1.Session(config=gpu_config)\n",
        "    tf.compat.v1.keras.backend.set_session(sess)\n",
        "    print('GPU available')\n",
        "else:\n",
        "    # 如果没有可见的 GPU 设备，设置 TensorFlow 在 CPU 上运行\n",
        "    tf.config.set_visible_devices([], 'GPU')\n",
        "    sess = tf.compat.v1.Session()\n",
        "    print('No GPU available')\n",
        "\n",
        "# 加载训练集数据\n",
        "train_data, train_label = load_data(data_dir_training, ALL_MOTION)\n",
        "print('\\nLoaded dataset of ' + str(train_label.shape[0]) + ' samples, each sized ' + str(train_data[0,:,:].shape) + '\\n')\n",
        "\n",
        "# One-hot encoding for train data\n",
        "train_label = onehot_encoding(train_label, N_MOTION)\n",
        "\n",
        "##############################################################################\n",
        "# Load data\n",
        "# data, label = load_data(data_dir, ALL_MOTION)\n",
        "# print('\\nLoaded dataset of ' + str(label.shape[0]) + ' samples, each sized ' + str(data[0,:,:].shape) + '\\n')\n",
        "\n",
        "# Split train and test\n",
        "# [data_train, data_test, label_train, label_test] = train_test_split(data, label, test_size=fraction_for_test)\n",
        "# print('\\nTrain on ' + str(label_train.shape[0]) + ' samples\\n' +\\\n",
        "    # 'Test on ' + str(label_test.shape[0]) + ' samples\\n')\n",
        "\n",
        "# One-hot encoding for train data\n",
        "# label_train = onehot_encoding(label_train, N_MOTION)\n",
        "\n",
        "# Load or fabricate model\n",
        "if use_existing_model:\n",
        "    model = load_model('model_Transformer_MultiAttention_LSTM_mse_1层Transformer_epoch200_86.61%.h5')\n",
        "    # model = load_model('model_LSTM_91.07_best_trained.h5')\n",
        "    # model = load_model('model_MultiAttention_LSTM_1层Transformer_MSE_epoch200_BS32_lr0.001_86.61%.h5')\n",
        "    # model = load_model('MultiAttention_LSTM_mse_1层Transformer_epoch50_79.46%.h5')\n",
        "    model.summary()\n",
        "else:\n",
        "    model = assemble_model(input_shape=(T_MAX, 15, 15, 1), n_class=N_MOTION) #修改点4\n",
        "    model.summary()\n",
        "\n",
        "class AccuracyLossHistory(Callback):\n",
        "    def on_train_begin(self, logs={}):\n",
        "        self.acc = []\n",
        "        self.loss = []\n",
        "        self.val_acc = []\n",
        "        self.val_loss = []\n",
        "\n",
        "    def on_epoch_end(self, epoch, logs={}):\n",
        "        self.acc.append(logs.get('accuracy'))\n",
        "        self.loss.append(logs.get('loss'))\n",
        "        self.val_acc.append(logs.get('val_accuracy'))\n",
        "        self.val_loss.append(logs.get('val_loss'))\n",
        "\n",
        "history = AccuracyLossHistory()\n",
        "\n",
        "# model.fit({'name_model_input': data_train},{'name_model_output': label_train},\n",
        "model.fit({'name_model_input': train_data},{'name_model_output': train_label},\n",
        "          batch_size=n_batch_size,\n",
        "          epochs=n_epochs,\n",
        "          verbose=1,\n",
        "          # validation_split=0.1,\n",
        "          shuffle=True, callbacks=[history])\n",
        "print('Saving trained model...')\n",
        "#model.save('model_widar3_trained.h5')\n",
        "model.save(f'{result_folder}/{today_version}_FEDRT-LSTM-train-model.h5')  # 改动\n",
        "\n",
        "# Testing...\n",
        "print('Testing...')\n",
        "\n",
        "# 加载测试集数据\n",
        "test_data, test_label = load_data(data_dir_testing, ALL_MOTION)\n",
        "print('\\nLoaded dataset of ' + str(test_label.shape[0]) + ' samples, each sized ' + str(test_data[0,:,:].shape) + '\\n')\n",
        "\n",
        "label_test_pred = model.predict(test_data)\n",
        "# label_test_pred = np.argmax(label_test_pred, axis = -1) + 2 #修改点5\n",
        "label_test_pred = np.argmax(label_test_pred, axis = -1) + 3 #修改点5 2024.04.24修改\n",
        "\n",
        "# Confusion Matrix\n",
        "cm = confusion_matrix(test_label, label_test_pred)\n",
        "# print(cm)\n",
        "cm = cm.astype('float')/cm.sum(axis=1)[:, np.newaxis]\n",
        "# cm = np.around(cm, decimals=2) # 保留几位小数的意思\n",
        "cm = np.around(cm, decimals=4) # 保留几位小数的意思 2024.04.24修改\n",
        "\n",
        "# print(cm)\n",
        "# cm_display = ConfusionMatrixDisplay(cm, display_labels=range(1, N_MOTION+1)).plot()\n",
        "# cm_display = ConfusionMatrixDisplay(cm, display_labels=range(4, N_MOTION+3)).plot() #2345 lebel-2  4567 4=2+2  7=长度4+3\n",
        "# cm_display = ConfusionMatrixDisplay(cm, display_labels=range(2, N_MOTION+2)).plot() #2345 lebel-2  23456 4=2+2  6=长度4+2\n",
        "cm_display = ConfusionMatrixDisplay(cm, display_labels=range(2, N_MOTION+3)).plot() #2024.04.24修改 #2345 lebel-2  23456 4=2+2  6=长度4+2\n",
        "plt.show()\n",
        "plt.savefig(f'{result_folder}/{today_version}_Confusion-Matrix.png') # 新增点1 保存混淆矩阵结果2023.09.11\n",
        "\n",
        "# ########################################################\n",
        "# 添加其他指标\n",
        "from sklearn.metrics import classification_report\n",
        "import io\n",
        "\n",
        "# label_test_pred是模型的预测结果，test_label是真实的标签\n",
        "classification_result = classification_report(test_label, label_test_pred, digits=4)\n",
        "# 将digits设置为4，那么在生成的分类报告中，每个指标（如精确度、召回率、F1 分数等）将会显示四位小数\n",
        "print(classification_result)\n",
        "\n",
        "# 将分类报告保存到文本文件\n",
        "classification_file = os.path.join(result_folder, 'classification_report.txt')\n",
        "with open(classification_file, 'w') as f:\n",
        "    f.write(classification_result)\n",
        "\n",
        "###############################################################\n",
        "\n",
        "# Accuracy 新增百分号\n",
        "test_accuracy = np.sum(test_label == label_test_pred) / (test_label.shape[0])\n",
        "print(test_accuracy)\n",
        "test_accuracy_percentage = test_accuracy * 100\n",
        "test_accuracy_str = f\"{test_accuracy_percentage:.2f}%\"\n",
        "print(test_accuracy_str)\n",
        "\n",
        "df_accuracy = pd.DataFrame({'Test Accuracy': [test_accuracy]})\n",
        "df_accuracy.to_excel(f'{result_folder}/{test_accuracy_str}_{today_version}.xlsx', index=False) ## 新增点2 保存测试集平均准确率结果2023.09.11\n",
        "\n",
        "df = pd.DataFrame({\n",
        "    'Epoch': range(1, n_epochs+1),\n",
        "    'Train Accuracy': history.acc,\n",
        "    'Train Loss': history.loss,\n",
        "    'Validation Accuracy': history.val_acc,\n",
        "    'Validation Loss': history.val_loss\n",
        "})\n",
        "\n",
        "# 保存准确率和损失数据到Excel表格中\n",
        "df.to_excel(f'{result_folder}/{today_version}_accuracy_loss.xlsx', index=False) #改动\n",
        "\n",
        "plt.plot(range(1, n_epochs+1), history.acc, label='Train Accuracy')\n",
        "plt.plot(range(1, n_epochs+1), history.loss, label='Train Loss')\n",
        "plt.plot(range(1, n_epochs+1), history.val_acc, label='Validation Accuracy')\n",
        "plt.plot(range(1, n_epochs+1), history.val_loss, label='Validation Loss')\n",
        "plt.xlabel('Epoch')\n",
        "plt.legend()\n",
        "plt.savefig(f'{result_folder}/{today_version}_plot.png')\n",
        "plt.show()\n",
        "\n",
        "# 新增 修改文件名 并打印新的文件名\n",
        "new_result_folder = result_folder + f'_{test_accuracy_str}'\n",
        "os.rename(result_folder, new_result_folder)\n",
        "result_folder = new_result_folder\n",
        "\n",
        "# print(\"新的结果文件夹名称为：\", result_folder)\n",
        "\n",
        "end_time = time.time()  # 记录程序结束时间\n",
        "duration = end_time - start_time  # 计算程序运行时间\n",
        "print(\"程序执行时间为：{:.2f}秒\".format(duration))\n",
        "\n",
        "with open(f'{result_folder}/{today_version}_runtime.txt', 'w') as f:\n",
        "    f.write(\"程序执行时间为：{:.2f}秒\".format(duration)) # 新增点3 保存程序执行时间结果2023.09.11\n"
      ],
      "metadata": {
        "id": "Q_ujmBdVPZzU",
        "colab": {
          "base_uri": "https://localhost:8080/",
          "height": 1000
        },
        "outputId": "39ee6451-df56-4ec5-cc32-c29b8f5a4b75"
      },
      "execution_count": 44,
      "outputs": [
        {
          "output_type": "stream",
          "name": "stdout",
          "text": [
            "No GPU available\n",
            "\n",
            "Loaded dataset of 1120 samples, each sized (20, 15, 15, 1)\n",
            "\n"
          ]
        },
        {
          "output_type": "stream",
          "name": "stderr",
          "text": [
            "WARNING:absl:`lr` is deprecated in Keras optimizer, please use `learning_rate` or use the legacy optimizer, e.g.,tf.keras.optimizers.legacy.RMSprop.\n"
          ]
        },
        {
          "output_type": "stream",
          "name": "stdout",
          "text": [
            "Model: \"model_6\"\n",
            "__________________________________________________________________________________________________\n",
            " Layer (type)                Output Shape                 Param #   Connected to                  \n",
            "==================================================================================================\n",
            " name_model_input (InputLay  [(None, 20, 15, 15, 1)]      0         []                            \n",
            " er)                                                                                              \n",
            "                                                                                                  \n",
            " time_distributed_36 (TimeD  (None, 20, 11, 11, 16)       416       ['name_model_input[0][0]']    \n",
            " istributed)                                                                                      \n",
            "                                                                                                  \n",
            " time_distributed_37 (TimeD  (None, 20, 5, 5, 16)         0         ['time_distributed_36[0][0]'] \n",
            " istributed)                                                                                      \n",
            "                                                                                                  \n",
            " time_distributed_38 (TimeD  (None, 20, 400)              0         ['time_distributed_37[0][0]'] \n",
            " istributed)                                                                                      \n",
            "                                                                                                  \n",
            " time_distributed_39 (TimeD  (None, 20, 64)               25664     ['time_distributed_38[0][0]'] \n",
            " istributed)                                                                                      \n",
            "                                                                                                  \n",
            " time_distributed_40 (TimeD  (None, 20, 64)               0         ['time_distributed_39[0][0]'] \n",
            " istributed)                                                                                      \n",
            "                                                                                                  \n",
            " time_distributed_41 (TimeD  (None, 20, 64)               4160      ['time_distributed_40[0][0]'] \n",
            " istributed)                                                                                      \n",
            "                                                                                                  \n",
            " multi_head_attention_6 (Mu  (None, 20, 64)               16640     ['time_distributed_41[0][0]', \n",
            " ltiHeadAttention)                                                   'time_distributed_41[0][0]'] \n",
            "                                                                                                  \n",
            " dropout_26 (Dropout)        (None, 20, 64)               0         ['multi_head_attention_6[0][0]\n",
            "                                                                    ']                            \n",
            "                                                                                                  \n",
            " tf.__operators__.add_7 (TF  (None, 20, 64)               0         ['dropout_26[0][0]',          \n",
            " OpLambda)                                                           'time_distributed_41[0][0]'] \n",
            "                                                                                                  \n",
            " layer_normalization_12 (La  (None, 20, 64)               128       ['tf.__operators__.add_7[0][0]\n",
            " yerNormalization)                                                  ']                            \n",
            "                                                                                                  \n",
            " dense_26 (Dense)            (None, 20, 64)               4160      ['layer_normalization_12[0][0]\n",
            "                                                                    ']                            \n",
            "                                                                                                  \n",
            " dense_27 (Dense)            (None, 20, 64)               4160      ['dense_26[0][0]']            \n",
            "                                                                                                  \n",
            " dropout_27 (Dropout)        (None, 20, 64)               0         ['dense_27[0][0]']            \n",
            "                                                                                                  \n",
            " layer_normalization_13 (La  (None, 20, 64)               128       ['dropout_27[0][0]']          \n",
            " yerNormalization)                                                                                \n",
            "                                                                                                  \n",
            " lstm_6 (LSTM)               (None, 32)                   12416     ['layer_normalization_13[0][0]\n",
            "                                                                    ']                            \n",
            "                                                                                                  \n",
            " dropout_28 (Dropout)        (None, 32)                   0         ['lstm_6[0][0]']              \n",
            "                                                                                                  \n",
            " name_model_output (Dense)   (None, 4)                    132       ['dropout_28[0][0]']          \n",
            "                                                                                                  \n",
            "==================================================================================================\n",
            "Total params: 68004 (265.64 KB)\n",
            "Trainable params: 68004 (265.64 KB)\n",
            "Non-trainable params: 0 (0.00 Byte)\n",
            "__________________________________________________________________________________________________\n",
            "Epoch 1/30\n",
            "35/35 [==============================] - 4s 30ms/step - loss: 0.1969 - accuracy: 0.2375\n",
            "Epoch 2/30\n",
            "35/35 [==============================] - 1s 30ms/step - loss: 0.1899 - accuracy: 0.2768\n",
            "Epoch 3/30\n",
            "35/35 [==============================] - 1s 30ms/step - loss: 0.1904 - accuracy: 0.2455\n",
            "Epoch 4/30\n",
            "35/35 [==============================] - 1s 31ms/step - loss: 0.1895 - accuracy: 0.2598\n",
            "Epoch 5/30\n",
            "35/35 [==============================] - 1s 31ms/step - loss: 0.1866 - accuracy: 0.2857\n",
            "Epoch 6/30\n",
            "35/35 [==============================] - 1s 31ms/step - loss: 0.1841 - accuracy: 0.3232\n",
            "Epoch 7/30\n",
            "35/35 [==============================] - 1s 33ms/step - loss: 0.1801 - accuracy: 0.3768\n",
            "Epoch 8/30\n",
            "35/35 [==============================] - 1s 31ms/step - loss: 0.1799 - accuracy: 0.3652\n",
            "Epoch 9/30\n",
            "35/35 [==============================] - 1s 32ms/step - loss: 0.1753 - accuracy: 0.4009\n",
            "Epoch 10/30\n",
            "35/35 [==============================] - 1s 30ms/step - loss: 0.1766 - accuracy: 0.3812\n",
            "Epoch 11/30\n",
            "35/35 [==============================] - 1s 30ms/step - loss: 0.1721 - accuracy: 0.4134\n",
            "Epoch 12/30\n",
            "35/35 [==============================] - 1s 30ms/step - loss: 0.1668 - accuracy: 0.4598\n",
            "Epoch 13/30\n",
            "35/35 [==============================] - 1s 32ms/step - loss: 0.1668 - accuracy: 0.4598\n",
            "Epoch 14/30\n",
            "35/35 [==============================] - 1s 31ms/step - loss: 0.1651 - accuracy: 0.4563\n",
            "Epoch 15/30\n",
            "35/35 [==============================] - 1s 30ms/step - loss: 0.1588 - accuracy: 0.5071\n",
            "Epoch 16/30\n",
            "35/35 [==============================] - 1s 31ms/step - loss: 0.1550 - accuracy: 0.5152\n",
            "Epoch 17/30\n",
            "35/35 [==============================] - 1s 32ms/step - loss: 0.1510 - accuracy: 0.5464\n",
            "Epoch 18/30\n",
            "35/35 [==============================] - 1s 32ms/step - loss: 0.1525 - accuracy: 0.5429\n",
            "Epoch 19/30\n",
            "35/35 [==============================] - 1s 32ms/step - loss: 0.1495 - accuracy: 0.5250\n",
            "Epoch 20/30\n",
            "35/35 [==============================] - 1s 30ms/step - loss: 0.1446 - accuracy: 0.5446\n",
            "Epoch 21/30\n",
            "35/35 [==============================] - 1s 30ms/step - loss: 0.1465 - accuracy: 0.5589\n",
            "Epoch 22/30\n",
            "35/35 [==============================] - 1s 30ms/step - loss: 0.1389 - accuracy: 0.5830\n",
            "Epoch 23/30\n",
            "35/35 [==============================] - 1s 31ms/step - loss: 0.1338 - accuracy: 0.6205\n",
            "Epoch 24/30\n",
            "35/35 [==============================] - 1s 31ms/step - loss: 0.1339 - accuracy: 0.6107\n",
            "Epoch 25/30\n",
            "35/35 [==============================] - 1s 31ms/step - loss: 0.1320 - accuracy: 0.6107\n",
            "Epoch 26/30\n",
            "35/35 [==============================] - 1s 31ms/step - loss: 0.1252 - accuracy: 0.6304\n",
            "Epoch 27/30\n",
            "35/35 [==============================] - 1s 31ms/step - loss: 0.1244 - accuracy: 0.6464\n",
            "Epoch 28/30\n",
            "35/35 [==============================] - 1s 31ms/step - loss: 0.1221 - accuracy: 0.6625\n",
            "Epoch 29/30\n",
            "35/35 [==============================] - 1s 32ms/step - loss: 0.1187 - accuracy: 0.6687\n",
            "Epoch 30/30\n",
            "35/35 [==============================] - 1s 33ms/step - loss: 0.1141 - accuracy: 0.6759\n",
            "Saving trained model...\n"
          ]
        },
        {
          "output_type": "stream",
          "name": "stderr",
          "text": [
            "/usr/local/lib/python3.10/dist-packages/keras/src/engine/training.py:3103: UserWarning: You are saving your model as an HDF5 file via `model.save()`. This file format is considered legacy. We recommend using instead the native Keras format, e.g. `model.save('my_model.keras')`.\n",
            "  saving_api.save_model(\n"
          ]
        },
        {
          "output_type": "stream",
          "name": "stdout",
          "text": [
            "Testing...\n",
            "\n",
            "Loaded dataset of 84 samples, each sized (20, 15, 15, 1)\n",
            "\n"
          ]
        },
        {
          "output_type": "stream",
          "name": "stderr",
          "text": [
            "WARNING:tensorflow:5 out of the last 13 calls to <function Model.make_predict_function.<locals>.predict_function at 0x7eb356b23760> triggered tf.function retracing. Tracing is expensive and the excessive number of tracings could be due to (1) creating @tf.function repeatedly in a loop, (2) passing tensors with different shapes, (3) passing Python objects instead of tensors. For (1), please define your @tf.function outside of the loop. For (2), @tf.function has reduce_retracing=True option that can avoid unnecessary retracing. For (3), please refer to https://www.tensorflow.org/guide/function#controlling_retracing and https://www.tensorflow.org/api_docs/python/tf/function for  more details.\n"
          ]
        },
        {
          "output_type": "stream",
          "name": "stdout",
          "text": [
            "3/3 [==============================] - 1s 14ms/step\n"
          ]
        },
        {
          "output_type": "stream",
          "name": "stderr",
          "text": [
            "<ipython-input-44-d647ec1d888e>:94: RuntimeWarning: invalid value encountered in divide\n",
            "  cm = cm.astype('float')/cm.sum(axis=1)[:, np.newaxis]\n"
          ]
        },
        {
          "output_type": "display_data",
          "data": {
            "text/plain": [
              "<Figure size 640x480 with 2 Axes>"
            ],
            "image/png": "[encoded data removed]"
          },
          "metadata": {}
        },
        {
          "output_type": "stream",
          "name": "stderr",
          "text": [
            "/usr/local/lib/python3.10/dist-packages/sklearn/metrics/_classification.py:1344: UndefinedMetricWarning: Recall and F-score are ill-defined and being set to 0.0 in labels with no true samples. Use `zero_division` parameter to control this behavior.\n",
            "  _warn_prf(average, modifier, msg_start, len(result))\n",
            "/usr/local/lib/python3.10/dist-packages/sklearn/metrics/_classification.py:1344: UndefinedMetricWarning: Recall and F-score are ill-defined and being set to 0.0 in labels with no true samples. Use `zero_division` parameter to control this behavior.\n",
            "  _warn_prf(average, modifier, msg_start, len(result))\n",
            "/usr/local/lib/python3.10/dist-packages/sklearn/metrics/_classification.py:1344: UndefinedMetricWarning: Recall and F-score are ill-defined and being set to 0.0 in labels with no true samples. Use `zero_division` parameter to control this behavior.\n",
            "  _warn_prf(average, modifier, msg_start, len(result))\n"
          ]
        },
        {
          "output_type": "stream",
          "name": "stdout",
          "text": [
            "              precision    recall  f1-score   support\n",
            "\n",
            "           2    0.50000   0.03571   0.06667        28\n",
            "           3    0.00000   0.00000   0.00000         0\n",
            "           4    0.43902   0.64286   0.52174        28\n",
            "           5    1.00000   0.07143   0.13333        28\n",
            "\n",
            "    accuracy                        0.25000        84\n",
            "   macro avg    0.48476   0.18750   0.18043        84\n",
            "weighted avg    0.64634   0.25000   0.24058        84\n",
            "\n",
            "0.25\n",
            "25.00%\n"
          ]
        },
        {
          "output_type": "display_data",
          "data": {
            "text/plain": [
              "<Figure size 640x480 with 1 Axes>"
            ],
            "image/png": "[encoded data removed]"
          },
          "metadata": {}
        },
        {
          "output_type": "stream",
          "name": "stdout",
          "text": [
            "程序执行时间为：47.20秒\n"
          ]
        }
      ]
    },
    {
      "cell_type": "code",
      "source": [],
      "metadata": {
        "id": "Y_INGrZ9z6iA"
      },
      "execution_count": null,
      "outputs": []
    }
  ]
}